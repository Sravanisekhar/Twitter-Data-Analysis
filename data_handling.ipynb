{
 "cells": [
  {
   "cell_type": "code",
   "execution_count": 1,
   "id": "ced40cb6",
   "metadata": {},
   "outputs": [],
   "source": [
    "import pandas as pd\n",
    "from datetime import datetime, timedelta\n",
    "import os"
   ]
  },
  {
   "cell_type": "code",
   "execution_count": 2,
   "id": "601357ac",
   "metadata": {},
   "outputs": [],
   "source": [
    "def create_folder(folder_name):\n",
    "    if not os.path.exists(folder_name):\n",
    "        os.makedirs(folder_name)"
   ]
  },
  {
   "cell_type": "code",
   "execution_count": 3,
   "id": "f159eaca-92d6-4d47-b5dc-a09970ee334c",
   "metadata": {},
   "outputs": [],
   "source": [
    "def create_folder(folder_path):\n",
    "    if not os.path.exists(folder_path):\n",
    "        os.makedirs(folder_path)\n",
    "\n",
    "def process_tweets_in_batches(df, output_base_folder, batch_size=500):\n",
    "    # Ensure the output base folder exists\n",
    "    create_folder(output_base_folder)\n",
    "    \n",
    "    # Divide DataFrame into batches of the given size\n",
    "    num_batches = (len(df) + batch_size - 1) // batch_size  # Calculate total batches\n",
    "    \n",
    "    for batch_idx in range(num_batches):\n",
    "        # Slice the DataFrame for the current batch\n",
    "        start_idx = batch_idx * batch_size\n",
    "        end_idx = min(start_idx + batch_size, len(df))\n",
    "        batch_df = df.iloc[start_idx:end_idx]\n",
    "        \n",
    "        # Generate the output file name for the batch\n",
    "        output_file = os.path.join(output_base_folder, f\"batch_{batch_idx + 1}.txt\")\n",
    "        \n",
    "        # Save the batch to a text file\n",
    "        batch_df.to_csv(output_file, columns=['text'], index=False, header=False)\n",
    "        \n",
    "        # Log progress\n",
    "        print(f\"Batch {batch_idx + 1}: Stored {len(batch_df)} tweets in {output_file}\")\n"
   ]
  },
  {
   "cell_type": "code",
   "execution_count": 4,
   "id": "c6a268aa",
   "metadata": {},
   "outputs": [],
   "source": [
    "df =pd.read_csv('cricket_tweet_.csv') \n",
    "output_folder = 'output_tweets'"
   ]
  },
  {
   "cell_type": "code",
   "execution_count": 5,
   "id": "437c82b0",
   "metadata": {},
   "outputs": [
    {
     "data": {
      "text/html": [
       "<div>\n",
       "<style scoped>\n",
       "    .dataframe tbody tr th:only-of-type {\n",
       "        vertical-align: middle;\n",
       "    }\n",
       "\n",
       "    .dataframe tbody tr th {\n",
       "        vertical-align: top;\n",
       "    }\n",
       "\n",
       "    .dataframe thead th {\n",
       "        text-align: right;\n",
       "    }\n",
       "</style>\n",
       "<table border=\"1\" class=\"dataframe\">\n",
       "  <thead>\n",
       "    <tr style=\"text-align: right;\">\n",
       "      <th></th>\n",
       "      <th>id</th>\n",
       "      <th>user_name</th>\n",
       "      <th>user_location</th>\n",
       "      <th>user_description</th>\n",
       "      <th>created_at</th>\n",
       "      <th>user_followers</th>\n",
       "      <th>user_friends</th>\n",
       "      <th>user_favourites</th>\n",
       "      <th>user_verified</th>\n",
       "      <th>date</th>\n",
       "      <th>text</th>\n",
       "      <th>hashtags</th>\n",
       "      <th>source</th>\n",
       "      <th>retweets</th>\n",
       "      <th>favorites</th>\n",
       "      <th>is_retweet</th>\n",
       "    </tr>\n",
       "  </thead>\n",
       "  <tbody>\n",
       "    <tr>\n",
       "      <th>0</th>\n",
       "      <td>1.433440e+18</td>\n",
       "      <td>Cricket World</td>\n",
       "      <td>Global</td>\n",
       "      <td>Official Twitter account of Cricket World - ne...</td>\n",
       "      <td>23-01-2009 10:49</td>\n",
       "      <td>58699</td>\n",
       "      <td>9834</td>\n",
       "      <td>90829</td>\n",
       "      <td>True</td>\n",
       "      <td>02-09-2021 14:43</td>\n",
       "      <td>🏏 Rizwan Cheema has been named team captain of...</td>\n",
       "      <td>NaN</td>\n",
       "      <td>Twitter Web App</td>\n",
       "      <td>0</td>\n",
       "      <td>0</td>\n",
       "      <td>False</td>\n",
       "    </tr>\n",
       "    <tr>\n",
       "      <th>1</th>\n",
       "      <td>1.433440e+18</td>\n",
       "      <td>Ⓜ️ithun</td>\n",
       "      <td>मुंबई, भारत</td>\n",
       "      <td>Cricket 🏏\\nPhotography📷 \\nWildlife🐅 \\nNature🌳</td>\n",
       "      <td>09-01-2010 15:38</td>\n",
       "      <td>7</td>\n",
       "      <td>97</td>\n",
       "      <td>343</td>\n",
       "      <td>False</td>\n",
       "      <td>02-09-2021 14:37</td>\n",
       "      <td>Virat Kohli being fixated on retaining specifi...</td>\n",
       "      <td>NaN</td>\n",
       "      <td>Twitter for Android</td>\n",
       "      <td>0</td>\n",
       "      <td>0</td>\n",
       "      <td>False</td>\n",
       "    </tr>\n",
       "    <tr>\n",
       "      <th>2</th>\n",
       "      <td>1.433440e+18</td>\n",
       "      <td>Akram Khan</td>\n",
       "      <td>NaN</td>\n",
       "      <td>BLOGGER | ＣＲＩＣＫＥＴ ＬＯＶＥＲ | Fond of full forms</td>\n",
       "      <td>08-07-2014 00:39</td>\n",
       "      <td>1455</td>\n",
       "      <td>39</td>\n",
       "      <td>8486</td>\n",
       "      <td>False</td>\n",
       "      <td>02-09-2021 14:28</td>\n",
       "      <td>My tribute to the world's fastest bowler ever,...</td>\n",
       "      <td>['shoaibakhtarpeaceambassador']</td>\n",
       "      <td>Twitter Web App</td>\n",
       "      <td>1</td>\n",
       "      <td>3</td>\n",
       "      <td>False</td>\n",
       "    </tr>\n",
       "    <tr>\n",
       "      <th>3</th>\n",
       "      <td>1.433430e+18</td>\n",
       "      <td>Mr.P</td>\n",
       "      <td>Mumbai, India</td>\n",
       "      <td>nothing</td>\n",
       "      <td>25-08-2013 10:07</td>\n",
       "      <td>15</td>\n",
       "      <td>675</td>\n",
       "      <td>4590</td>\n",
       "      <td>False</td>\n",
       "      <td>02-09-2021 14:17</td>\n",
       "      <td>this guy's life is incomplete without Kohli's ...</td>\n",
       "      <td>NaN</td>\n",
       "      <td>Twitter for Android</td>\n",
       "      <td>0</td>\n",
       "      <td>5</td>\n",
       "      <td>False</td>\n",
       "    </tr>\n",
       "    <tr>\n",
       "      <th>4</th>\n",
       "      <td>1.433430e+18</td>\n",
       "      <td>Cricket_Kith</td>\n",
       "      <td>NaN</td>\n",
       "      <td>Crick, Crick, Cricket🏏\\nDon't Throw Your Wicke...</td>\n",
       "      <td>01-09-2021 11:39</td>\n",
       "      <td>0</td>\n",
       "      <td>6</td>\n",
       "      <td>27</td>\n",
       "      <td>False</td>\n",
       "      <td>02-09-2021 14:15</td>\n",
       "      <td>When Rishabh Pant Stepped Out Robinson 😂\\nWhol...</td>\n",
       "      <td>['ENGvIND', 'Cricket', 'BCCI', 'Ovaltest', 'No...</td>\n",
       "      <td>Twitter for Android</td>\n",
       "      <td>0</td>\n",
       "      <td>1</td>\n",
       "      <td>False</td>\n",
       "    </tr>\n",
       "  </tbody>\n",
       "</table>\n",
       "</div>"
      ],
      "text/plain": [
       "             id      user_name  user_location  \\\n",
       "0  1.433440e+18  Cricket World         Global   \n",
       "1  1.433440e+18        Ⓜ️ithun    मुंबई, भारत   \n",
       "2  1.433440e+18     Akram Khan            NaN   \n",
       "3  1.433430e+18           Mr.P  Mumbai, India   \n",
       "4  1.433430e+18   Cricket_Kith            NaN   \n",
       "\n",
       "                                    user_description        created_at  \\\n",
       "0  Official Twitter account of Cricket World - ne...  23-01-2009 10:49   \n",
       "1      Cricket 🏏\\nPhotography📷 \\nWildlife🐅 \\nNature🌳  09-01-2010 15:38   \n",
       "2       BLOGGER | ＣＲＩＣＫＥＴ ＬＯＶＥＲ | Fond of full forms  08-07-2014 00:39   \n",
       "3                                            nothing  25-08-2013 10:07   \n",
       "4  Crick, Crick, Cricket🏏\\nDon't Throw Your Wicke...  01-09-2021 11:39   \n",
       "\n",
       "   user_followers  user_friends  user_favourites  user_verified  \\\n",
       "0           58699          9834            90829           True   \n",
       "1               7            97              343          False   \n",
       "2            1455            39             8486          False   \n",
       "3              15           675             4590          False   \n",
       "4               0             6               27          False   \n",
       "\n",
       "               date                                               text  \\\n",
       "0  02-09-2021 14:43  🏏 Rizwan Cheema has been named team captain of...   \n",
       "1  02-09-2021 14:37  Virat Kohli being fixated on retaining specifi...   \n",
       "2  02-09-2021 14:28  My tribute to the world's fastest bowler ever,...   \n",
       "3  02-09-2021 14:17  this guy's life is incomplete without Kohli's ...   \n",
       "4  02-09-2021 14:15  When Rishabh Pant Stepped Out Robinson 😂\\nWhol...   \n",
       "\n",
       "                                            hashtags               source  \\\n",
       "0                                                NaN      Twitter Web App   \n",
       "1                                                NaN  Twitter for Android   \n",
       "2                    ['shoaibakhtarpeaceambassador']      Twitter Web App   \n",
       "3                                                NaN  Twitter for Android   \n",
       "4  ['ENGvIND', 'Cricket', 'BCCI', 'Ovaltest', 'No...  Twitter for Android   \n",
       "\n",
       "   retweets  favorites  is_retweet  \n",
       "0         0          0       False  \n",
       "1         0          0       False  \n",
       "2         1          3       False  \n",
       "3         0          5       False  \n",
       "4         0          1       False  "
      ]
     },
     "execution_count": 5,
     "metadata": {},
     "output_type": "execute_result"
    }
   ],
   "source": [
    "df.head()"
   ]
  },
  {
   "cell_type": "code",
   "execution_count": 6,
   "id": "ee13bbae-2696-4237-8e4e-377c975055f0",
   "metadata": {},
   "outputs": [
    {
     "data": {
      "text/plain": [
       "(60862, 16)"
      ]
     },
     "execution_count": 6,
     "metadata": {},
     "output_type": "execute_result"
    }
   ],
   "source": [
    "df.shape"
   ]
  },
  {
   "cell_type": "code",
   "execution_count": 7,
   "id": "85dc5027-c9d5-4e73-a155-480700f722c3",
   "metadata": {},
   "outputs": [],
   "source": [
    "df1=df.head(10000)"
   ]
  },
  {
   "cell_type": "code",
   "execution_count": 8,
   "id": "d895efab-5dbe-4595-929a-f22e7b1ac3a0",
   "metadata": {},
   "outputs": [
    {
     "data": {
      "text/plain": [
       "(10000, 16)"
      ]
     },
     "execution_count": 8,
     "metadata": {},
     "output_type": "execute_result"
    }
   ],
   "source": [
    "df1.shape"
   ]
  },
  {
   "cell_type": "code",
   "execution_count": 9,
   "id": "2de69800-f4bd-485d-af1a-75a074233244",
   "metadata": {},
   "outputs": [
    {
     "name": "stdout",
     "output_type": "stream",
     "text": [
      "Batch 1: Stored 500 tweets in output_tweets\\batch_1.txt\n",
      "Batch 2: Stored 500 tweets in output_tweets\\batch_2.txt\n",
      "Batch 3: Stored 500 tweets in output_tweets\\batch_3.txt\n",
      "Batch 4: Stored 500 tweets in output_tweets\\batch_4.txt\n",
      "Batch 5: Stored 500 tweets in output_tweets\\batch_5.txt\n",
      "Batch 6: Stored 500 tweets in output_tweets\\batch_6.txt\n",
      "Batch 7: Stored 500 tweets in output_tweets\\batch_7.txt\n",
      "Batch 8: Stored 500 tweets in output_tweets\\batch_8.txt\n",
      "Batch 9: Stored 500 tweets in output_tweets\\batch_9.txt\n",
      "Batch 10: Stored 500 tweets in output_tweets\\batch_10.txt\n",
      "Batch 11: Stored 500 tweets in output_tweets\\batch_11.txt\n",
      "Batch 12: Stored 500 tweets in output_tweets\\batch_12.txt\n",
      "Batch 13: Stored 500 tweets in output_tweets\\batch_13.txt\n",
      "Batch 14: Stored 500 tweets in output_tweets\\batch_14.txt\n",
      "Batch 15: Stored 500 tweets in output_tweets\\batch_15.txt\n",
      "Batch 16: Stored 500 tweets in output_tweets\\batch_16.txt\n",
      "Batch 17: Stored 500 tweets in output_tweets\\batch_17.txt\n",
      "Batch 18: Stored 500 tweets in output_tweets\\batch_18.txt\n",
      "Batch 19: Stored 500 tweets in output_tweets\\batch_19.txt\n",
      "Batch 20: Stored 500 tweets in output_tweets\\batch_20.txt\n"
     ]
    }
   ],
   "source": [
    "process_tweets_in_batches(df1,output_folder)"
   ]
  },
  {
   "cell_type": "code",
   "execution_count": null,
   "id": "3244bf9a",
   "metadata": {},
   "outputs": [],
   "source": []
  }
 ],
 "metadata": {
  "kernelspec": {
   "display_name": "Python 3 (ipykernel)",
   "language": "python",
   "name": "python3"
  },
  "language_info": {
   "codemirror_mode": {
    "name": "ipython",
    "version": 3
   },
   "file_extension": ".py",
   "mimetype": "text/x-python",
   "name": "python",
   "nbconvert_exporter": "python",
   "pygments_lexer": "ipython3",
   "version": "3.12.3"
  }
 },
 "nbformat": 4,
 "nbformat_minor": 5
}
